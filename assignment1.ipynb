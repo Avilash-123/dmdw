{
  "nbformat": 4,
  "nbformat_minor": 0,
  "metadata": {
    "colab": {
      "name": "Untitled0.ipynb",
      "provenance": [],
      "authorship_tag": "ABX9TyPzqza5laHMF0lJ66b20e1q",
      "include_colab_link": true
    },
    "kernelspec": {
      "name": "python3",
      "display_name": "Python 3"
    },
    "language_info": {
      "name": "python"
    }
  },
  "cells": [
    {
      "cell_type": "markdown",
      "metadata": {
        "id": "view-in-github",
        "colab_type": "text"
      },
      "source": [
        "<a href=\"https://colab.research.google.com/github/Avilash-123/dmdw/blob/main/assignment1.ipynb\" target=\"_parent\"><img src=\"https://colab.research.google.com/assets/colab-badge.svg\" alt=\"Open In Colab\"/></a>"
      ]
    },
    {
      "cell_type": "markdown",
      "metadata": {
        "id": "d75mSwjBZYsD"
      },
      "source": [
        "1. Create a list in python . Next find mean and median of the list without using any builtin library functions"
      ]
    },
    {
      "cell_type": "code",
      "metadata": {
        "colab": {
          "base_uri": "https://localhost:8080/"
        },
        "id": "8eKuHsXQYnOL",
        "outputId": "983ed0e9-40ff-4009-f5b9-33295478db64"
      },
      "source": [
        "lst = [12,35,18,9,56,24]\n",
        "n = len(lst)\n",
        "s = sum(lst)\n",
        "mean = s/n\n",
        "print(\"Mean is: \",mean)\n",
        "lst.sort()\n",
        "if n%2 == 0:\n",
        "    mid1 = lst[n//2]\n",
        "    mid2 = lst[n//2-1]\n",
        "    meadian = (mid1+mid2)//2\n",
        "else:\n",
        "    median = lst[n//2]\n",
        "print(meadian)"
      ],
      "execution_count": 1,
      "outputs": [
        {
          "output_type": "stream",
          "name": "stdout",
          "text": [
            "Mean is:  25.666666666666668\n",
            "21\n"
          ]
        }
      ]
    },
    {
      "cell_type": "code",
      "metadata": {
        "colab": {
          "base_uri": "https://localhost:8080/"
        },
        "id": "NcK5UqUzZFi8",
        "outputId": "1196c13e-f2f6-4c44-9e6b-78917563a136"
      },
      "source": [
        "list1=[2,3,1,1,6,2,1,5]\n",
        "list1.sort()\n",
        "list2 = []\n",
        "res = []\n",
        "for i in list1:\n",
        "    list2.append(list1.count(i))\n",
        "dic = dict(zip(list1,list2))\n",
        "for k,v in dic.items():\n",
        "    if v == max(list2):\n",
        "        res.append(k)\n",
        "print(\"Mode is: \",res)"
      ],
      "execution_count": 2,
      "outputs": [
        {
          "output_type": "stream",
          "name": "stdout",
          "text": [
            "Mode is:  [1]\n"
          ]
        }
      ]
    },
    {
      "cell_type": "code",
      "metadata": {
        "colab": {
          "base_uri": "https://localhost:8080/"
        },
        "id": "UsAmiqRpZRiF",
        "outputId": "03a47539-3b47-4adf-de5d-510644f60541"
      },
      "source": [
        "lst = [12,35,18,9,56,24]\n",
        "lst.sort()\n",
        "print(\"Second Smallest: \",lst[1])\n",
        "print(\"Second Highest: \",lst[-2])"
      ],
      "execution_count": 3,
      "outputs": [
        {
          "output_type": "stream",
          "name": "stdout",
          "text": [
            "Second Smallest:  12\n",
            "Second Highest:  35\n"
          ]
        }
      ]
    },
    {
      "cell_type": "code",
      "metadata": {
        "id": "e22Tc4alZVWm"
      },
      "source": [
        ""
      ],
      "execution_count": null,
      "outputs": []
    }
  ]
}